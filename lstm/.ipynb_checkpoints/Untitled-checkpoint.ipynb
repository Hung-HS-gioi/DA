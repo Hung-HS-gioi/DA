{
 "cells": [
  {
   "cell_type": "code",
   "execution_count": 1,
   "id": "3b2646b8",
   "metadata": {},
   "outputs": [],
   "source": [
    "import pandas as pd\n",
    "import numpy as np\n",
    "import matplotlib.pyplot as plt\n",
    "import seaborn as sns\n",
    "from datetime import datetime"
   ]
  },
  {
   "cell_type": "code",
   "execution_count": 2,
   "id": "a789bb3f",
   "metadata": {},
   "outputs": [],
   "source": [
    "df = pd.read_csv(\"shampoo.csv\")"
   ]
  },
  {
   "cell_type": "code",
   "execution_count": 3,
   "id": "03e92370",
   "metadata": {},
   "outputs": [
    {
     "data": {
      "text/html": [
       "<div>\n",
       "<style scoped>\n",
       "    .dataframe tbody tr th:only-of-type {\n",
       "        vertical-align: middle;\n",
       "    }\n",
       "\n",
       "    .dataframe tbody tr th {\n",
       "        vertical-align: top;\n",
       "    }\n",
       "\n",
       "    .dataframe thead th {\n",
       "        text-align: right;\n",
       "    }\n",
       "</style>\n",
       "<table border=\"1\" class=\"dataframe\">\n",
       "  <thead>\n",
       "    <tr style=\"text-align: right;\">\n",
       "      <th></th>\n",
       "      <th>Month</th>\n",
       "      <th>Sales</th>\n",
       "    </tr>\n",
       "  </thead>\n",
       "  <tbody>\n",
       "    <tr>\n",
       "      <th>0</th>\n",
       "      <td>1-01</td>\n",
       "      <td>266.0</td>\n",
       "    </tr>\n",
       "    <tr>\n",
       "      <th>1</th>\n",
       "      <td>1-02</td>\n",
       "      <td>145.9</td>\n",
       "    </tr>\n",
       "    <tr>\n",
       "      <th>2</th>\n",
       "      <td>1-03</td>\n",
       "      <td>183.1</td>\n",
       "    </tr>\n",
       "    <tr>\n",
       "      <th>3</th>\n",
       "      <td>1-04</td>\n",
       "      <td>119.3</td>\n",
       "    </tr>\n",
       "    <tr>\n",
       "      <th>4</th>\n",
       "      <td>1-05</td>\n",
       "      <td>180.3</td>\n",
       "    </tr>\n",
       "  </tbody>\n",
       "</table>\n",
       "</div>"
      ],
      "text/plain": [
       "  Month  Sales\n",
       "0  1-01  266.0\n",
       "1  1-02  145.9\n",
       "2  1-03  183.1\n",
       "3  1-04  119.3\n",
       "4  1-05  180.3"
      ]
     },
     "execution_count": 3,
     "metadata": {},
     "output_type": "execute_result"
    }
   ],
   "source": [
    "df.head()"
   ]
  },
  {
   "cell_type": "code",
   "execution_count": 4,
   "id": "af0adf39",
   "metadata": {},
   "outputs": [
    {
     "data": {
      "text/html": [
       "<div>\n",
       "<style scoped>\n",
       "    .dataframe tbody tr th:only-of-type {\n",
       "        vertical-align: middle;\n",
       "    }\n",
       "\n",
       "    .dataframe tbody tr th {\n",
       "        vertical-align: top;\n",
       "    }\n",
       "\n",
       "    .dataframe thead th {\n",
       "        text-align: right;\n",
       "    }\n",
       "</style>\n",
       "<table border=\"1\" class=\"dataframe\">\n",
       "  <thead>\n",
       "    <tr style=\"text-align: right;\">\n",
       "      <th></th>\n",
       "      <th>Month</th>\n",
       "      <th>Sales</th>\n",
       "      <th>month</th>\n",
       "      <th>year</th>\n",
       "    </tr>\n",
       "  </thead>\n",
       "  <tbody>\n",
       "    <tr>\n",
       "      <th>0</th>\n",
       "      <td>1-01</td>\n",
       "      <td>266.0</td>\n",
       "      <td>1901</td>\n",
       "      <td>1</td>\n",
       "    </tr>\n",
       "    <tr>\n",
       "      <th>1</th>\n",
       "      <td>1-02</td>\n",
       "      <td>145.9</td>\n",
       "      <td>1901</td>\n",
       "      <td>2</td>\n",
       "    </tr>\n",
       "    <tr>\n",
       "      <th>2</th>\n",
       "      <td>1-03</td>\n",
       "      <td>183.1</td>\n",
       "      <td>1901</td>\n",
       "      <td>3</td>\n",
       "    </tr>\n",
       "    <tr>\n",
       "      <th>3</th>\n",
       "      <td>1-04</td>\n",
       "      <td>119.3</td>\n",
       "      <td>1901</td>\n",
       "      <td>4</td>\n",
       "    </tr>\n",
       "    <tr>\n",
       "      <th>4</th>\n",
       "      <td>1-05</td>\n",
       "      <td>180.3</td>\n",
       "      <td>1901</td>\n",
       "      <td>5</td>\n",
       "    </tr>\n",
       "  </tbody>\n",
       "</table>\n",
       "</div>"
      ],
      "text/plain": [
       "  Month  Sales month  year\n",
       "0  1-01  266.0  1901     1\n",
       "1  1-02  145.9  1901     2\n",
       "2  1-03  183.1  1901     3\n",
       "3  1-04  119.3  1901     4\n",
       "4  1-05  180.3  1901     5"
      ]
     },
     "execution_count": 4,
     "metadata": {},
     "output_type": "execute_result"
    }
   ],
   "source": [
    "# tách lay thang \n",
    "df[\"month\"] = [str(s.split(\"-\")[0]) for s in df[\"Month\"]]\n",
    "# tach lay nam \n",
    "df[\"year\"] = [int(s.split(\"-\")[1]) for s in df[\"Month\"]]\n",
    "# tinh Năm\n",
    "df[\"month\"] = [str('190'+s) for s in df[\"month\"]]\n",
    "df.head()"
   ]
  },
  {
   "cell_type": "code",
   "execution_count": 5,
   "id": "8bcda08c",
   "metadata": {},
   "outputs": [
    {
     "data": {
      "text/html": [
       "<div>\n",
       "<style scoped>\n",
       "    .dataframe tbody tr th:only-of-type {\n",
       "        vertical-align: middle;\n",
       "    }\n",
       "\n",
       "    .dataframe tbody tr th {\n",
       "        vertical-align: top;\n",
       "    }\n",
       "\n",
       "    .dataframe thead th {\n",
       "        text-align: right;\n",
       "    }\n",
       "</style>\n",
       "<table border=\"1\" class=\"dataframe\">\n",
       "  <thead>\n",
       "    <tr style=\"text-align: right;\">\n",
       "      <th></th>\n",
       "      <th>Month</th>\n",
       "      <th>Sales</th>\n",
       "      <th>month</th>\n",
       "      <th>year</th>\n",
       "      <th>Date</th>\n",
       "    </tr>\n",
       "  </thead>\n",
       "  <tbody>\n",
       "    <tr>\n",
       "      <th>0</th>\n",
       "      <td>1-01</td>\n",
       "      <td>266.0</td>\n",
       "      <td>1901</td>\n",
       "      <td>1</td>\n",
       "      <td>1901-01-01</td>\n",
       "    </tr>\n",
       "    <tr>\n",
       "      <th>1</th>\n",
       "      <td>1-02</td>\n",
       "      <td>145.9</td>\n",
       "      <td>1901</td>\n",
       "      <td>2</td>\n",
       "      <td>1901-02-01</td>\n",
       "    </tr>\n",
       "    <tr>\n",
       "      <th>2</th>\n",
       "      <td>1-03</td>\n",
       "      <td>183.1</td>\n",
       "      <td>1901</td>\n",
       "      <td>3</td>\n",
       "      <td>1901-03-01</td>\n",
       "    </tr>\n",
       "    <tr>\n",
       "      <th>3</th>\n",
       "      <td>1-04</td>\n",
       "      <td>119.3</td>\n",
       "      <td>1901</td>\n",
       "      <td>4</td>\n",
       "      <td>1901-04-01</td>\n",
       "    </tr>\n",
       "    <tr>\n",
       "      <th>4</th>\n",
       "      <td>1-05</td>\n",
       "      <td>180.3</td>\n",
       "      <td>1901</td>\n",
       "      <td>5</td>\n",
       "      <td>1901-05-01</td>\n",
       "    </tr>\n",
       "  </tbody>\n",
       "</table>\n",
       "</div>"
      ],
      "text/plain": [
       "  Month  Sales month  year       Date\n",
       "0  1-01  266.0  1901     1 1901-01-01\n",
       "1  1-02  145.9  1901     2 1901-02-01\n",
       "2  1-03  183.1  1901     3 1901-03-01\n",
       "3  1-04  119.3  1901     4 1901-04-01\n",
       "4  1-05  180.3  1901     5 1901-05-01"
      ]
     },
     "execution_count": 5,
     "metadata": {},
     "output_type": "execute_result"
    }
   ],
   "source": [
    "#Tạo cot từ Year và Month\n",
    "df[\"Date\"] = [str(y) + '-' + str(m) for y,m in zip(df[\"year\"], df[\"month\"])]\n",
    "#chuyển đổi cột Date về dạng DateTime\n",
    "df['Date']=pd.to_datetime(df[\"Date\"])\n",
    "df.head()"
   ]
  },
  {
   "cell_type": "code",
   "execution_count": 6,
   "id": "d4dcfd5c",
   "metadata": {},
   "outputs": [
    {
     "data": {
      "text/html": [
       "<div>\n",
       "<style scoped>\n",
       "    .dataframe tbody tr th:only-of-type {\n",
       "        vertical-align: middle;\n",
       "    }\n",
       "\n",
       "    .dataframe tbody tr th {\n",
       "        vertical-align: top;\n",
       "    }\n",
       "\n",
       "    .dataframe thead th {\n",
       "        text-align: right;\n",
       "    }\n",
       "</style>\n",
       "<table border=\"1\" class=\"dataframe\">\n",
       "  <thead>\n",
       "    <tr style=\"text-align: right;\">\n",
       "      <th></th>\n",
       "      <th>Sales</th>\n",
       "    </tr>\n",
       "    <tr>\n",
       "      <th>Date</th>\n",
       "      <th></th>\n",
       "    </tr>\n",
       "  </thead>\n",
       "  <tbody>\n",
       "    <tr>\n",
       "      <th>1901-01-01</th>\n",
       "      <td>266.0</td>\n",
       "    </tr>\n",
       "    <tr>\n",
       "      <th>1901-02-01</th>\n",
       "      <td>145.9</td>\n",
       "    </tr>\n",
       "    <tr>\n",
       "      <th>1901-03-01</th>\n",
       "      <td>183.1</td>\n",
       "    </tr>\n",
       "    <tr>\n",
       "      <th>1901-04-01</th>\n",
       "      <td>119.3</td>\n",
       "    </tr>\n",
       "    <tr>\n",
       "      <th>1901-05-01</th>\n",
       "      <td>180.3</td>\n",
       "    </tr>\n",
       "  </tbody>\n",
       "</table>\n",
       "</div>"
      ],
      "text/plain": [
       "            Sales\n",
       "Date             \n",
       "1901-01-01  266.0\n",
       "1901-02-01  145.9\n",
       "1901-03-01  183.1\n",
       "1901-04-01  119.3\n",
       "1901-05-01  180.3"
      ]
     },
     "execution_count": 6,
     "metadata": {},
     "output_type": "execute_result"
    }
   ],
   "source": [
    "df.drop(df.columns[[0,2,3]], axis=1, inplace=True)\n",
    "df.set_index(\"Date\",inplace=True)\n",
    "df.head()"
   ]
  },
  {
   "cell_type": "markdown",
   "id": "371da8a2",
   "metadata": {},
   "source": [
    "\n",
    "## tạo tập test"
   ]
  },
  {
   "cell_type": "code",
   "execution_count": 7,
   "id": "e1574ef6",
   "metadata": {},
   "outputs": [],
   "source": [
    "# chuyen va dang value\n",
    "X = df.values\n",
    "# tap train la 18 dong dau , test là 18 dong sau\n",
    "train, test = X[0:-18], X[-18:]"
   ]
  },
  {
   "cell_type": "code",
   "execution_count": 8,
   "id": "76ff70e2",
   "metadata": {},
   "outputs": [
    {
     "data": {
      "text/plain": [
       "array([[0.67541436],\n",
       "       [0.12246777],\n",
       "       [0.29373849],\n",
       "       [0.        ],\n",
       "       [0.28084715],\n",
       "       [0.22651934],\n",
       "       [0.5179558 ],\n",
       "       [0.48434622],\n",
       "       [0.33839779],\n",
       "       [0.01657459],\n",
       "       [1.        ],\n",
       "       [0.30662983],\n",
       "       [0.34530387],\n",
       "       [0.13904236],\n",
       "       [0.41804788],\n",
       "       [0.70902394],\n",
       "       [0.33195212],\n",
       "       [0.77209945]])"
      ]
     },
     "execution_count": 8,
     "metadata": {},
     "output_type": "execute_result"
    }
   ],
   "source": [
    "# Scale the data\n",
    "from sklearn.preprocessing import MinMaxScaler\n",
    "\n",
    "scaler = MinMaxScaler(feature_range=(0,1))\n",
    "scaled_data = scaler.fit_transform(train)\n",
    "\n",
    "len(scaled_data)\n",
    "\n",
    "scaled_data"
   ]
  },
  {
   "cell_type": "code",
   "execution_count": 9,
   "id": "80c2faa2",
   "metadata": {},
   "outputs": [],
   "source": [
    "#tạo vòng lặp giá trị với 6 ngày một vòng lặp\n",
    "x_train,y_train=[],[]\n",
    "for i in range(6,len(scaled_data)):\n",
    "    # x nhan gia tri tu 1 den 6 và tang dan 2 den 7 ,... mot vong lap\n",
    "    x_train.append(scaled_data[i-6:i])\n",
    "    # nhan gia tri của ngay tiep theo  làm du doan\n",
    "    y_train.append(scaled_data[i])"
   ]
  },
  {
   "cell_type": "code",
   "execution_count": 10,
   "id": "b0278f50",
   "metadata": {},
   "outputs": [],
   "source": [
    "# cchuyen dl ve kieu array\n",
    "x_train1 = np.array(x_train)\n",
    "y_train1 = np.array(y_train)"
   ]
  },
  {
   "cell_type": "code",
   "execution_count": 11,
   "id": "b4d50575",
   "metadata": {},
   "outputs": [],
   "source": [
    "# dua dl ve mang 1 chieu \n",
    "x_train2 = np.reshape(x_train1, (x_train1.shape[0], x_train1.shape[1], 1))\n",
    "y_train2 = np.reshape(y_train1.shape[0],1)"
   ]
  },
  {
   "cell_type": "code",
   "execution_count": 12,
   "id": "57c0f329",
   "metadata": {},
   "outputs": [
    {
     "data": {
      "text/plain": [
       "array([[[0.5179558 ]],\n",
       "\n",
       "       [[0.48434622]],\n",
       "\n",
       "       [[0.33839779]],\n",
       "\n",
       "       [[0.01657459]],\n",
       "\n",
       "       [[1.        ]],\n",
       "\n",
       "       [[0.30662983]],\n",
       "\n",
       "       [[0.34530387]],\n",
       "\n",
       "       [[0.13904236]],\n",
       "\n",
       "       [[0.41804788]],\n",
       "\n",
       "       [[0.70902394]],\n",
       "\n",
       "       [[0.33195212]],\n",
       "\n",
       "       [[0.77209945]]])"
      ]
     },
     "execution_count": 12,
     "metadata": {},
     "output_type": "execute_result"
    }
   ],
   "source": [
    "y_train2 = np.reshape(y_train1, (y_train1.shape[0], y_train1.shape[1], 1))\n",
    "y_train2"
   ]
  },
  {
   "cell_type": "code",
   "execution_count": null,
   "id": "90e6ffe0",
   "metadata": {},
   "outputs": [],
   "source": []
  },
  {
   "cell_type": "code",
   "execution_count": 13,
   "id": "7fcc42f9",
   "metadata": {},
   "outputs": [],
   "source": [
    "# import thư viện\n",
    "from keras.models import Sequential\n",
    "from keras.layers import LSTM,Dense,Dropout,Bidirectional,Embedding\n",
    "from keras.models import load_model, Model"
   ]
  },
  {
   "cell_type": "code",
   "execution_count": 14,
   "id": "7a2620ba",
   "metadata": {},
   "outputs": [
    {
     "name": "stdout",
     "output_type": "stream",
     "text": [
      "Model: \"sequential\"\n",
      "_________________________________________________________________\n",
      " Layer (type)                Output Shape              Param #   \n",
      "=================================================================\n",
      " lstm (LSTM)                 (None, 6, 64)             16896     \n",
      "                                                                 \n",
      " dropout (Dropout)           (None, 6, 64)             0         \n",
      "                                                                 \n",
      " dense (Dense)               (None, 6, 1)              65        \n",
      "                                                                 \n",
      "=================================================================\n",
      "Total params: 16,961\n",
      "Trainable params: 16,961\n",
      "Non-trainable params: 0\n",
      "_________________________________________________________________\n",
      "Epoch 1/10\n",
      "1/1 [==============================] - 3s 3s/step - loss: 0.2688\n",
      "Epoch 2/10\n",
      "1/1 [==============================] - 0s 9ms/step - loss: 0.2386\n",
      "Epoch 3/10\n",
      "1/1 [==============================] - 0s 11ms/step - loss: 0.2155\n",
      "Epoch 4/10\n",
      "1/1 [==============================] - 0s 12ms/step - loss: 0.1979\n",
      "Epoch 5/10\n",
      "1/1 [==============================] - 0s 11ms/step - loss: 0.1815\n",
      "Epoch 6/10\n",
      "1/1 [==============================] - 0s 12ms/step - loss: 0.1724\n",
      "Epoch 7/10\n",
      "1/1 [==============================] - 0s 11ms/step - loss: 0.1626\n",
      "Epoch 8/10\n",
      "1/1 [==============================] - 0s 9ms/step - loss: 0.1535\n",
      "Epoch 9/10\n",
      "1/1 [==============================] - 0s 10ms/step - loss: 0.1422\n",
      "Epoch 10/10\n",
      "1/1 [==============================] - 0s 12ms/step - loss: 0.1334\n"
     ]
    },
    {
     "data": {
      "text/plain": [
       "<keras.callbacks.History at 0x19102ef11f0>"
      ]
     },
     "execution_count": 14,
     "metadata": {},
     "output_type": "execute_result"
    }
   ],
   "source": [
    "# Xây dựng mạng nơ-ron đơn giản\n",
    "model_lstm = Sequential()\n",
    "#Xây dungje lớp mạng nơ-ron LSTM với số chiều là 64\n",
    "model_lstm.add(LSTM(64,input_shape =(x_train1.shape[1], 1),return_sequences=True))\n",
    "# dropout trách việc học tủ của mạng \n",
    "model_lstm.add(Dropout(0.2))\n",
    "model_lstm.add(Dense(1))\n",
    "# Sai số toàn phương trung bình mse\n",
    "# Sai số toàn phương trung bình mean_squared_error\n",
    "model_lstm.compile(loss = 'mse')\n",
    "model_lstm.summary()\n",
    "\n",
    "# mạng nơ- ron học \n",
    "model_lstm.fit(x_train2,y_train2,epochs = 10)"
   ]
  },
  {
   "cell_type": "code",
   "execution_count": null,
   "id": "411a8db4",
   "metadata": {},
   "outputs": [],
   "source": []
  },
  {
   "cell_type": "markdown",
   "id": "5f7264c5",
   "metadata": {},
   "source": [
    "## thực hiện test"
   ]
  },
  {
   "cell_type": "code",
   "execution_count": 15,
   "id": "a0034e3a",
   "metadata": {},
   "outputs": [
    {
     "data": {
      "text/plain": [
       "array([[0.        ],\n",
       "       [0.17017544],\n",
       "       [0.14013158],\n",
       "       [0.42894737],\n",
       "       [0.08442982],\n",
       "       [0.25504386],\n",
       "       [0.24934211],\n",
       "       [0.47017544],\n",
       "       [0.19714912],\n",
       "       [0.46776316],\n",
       "       [0.38442982],\n",
       "       [0.46359649],\n",
       "       [0.76644737],\n",
       "       [0.39824561],\n",
       "       [1.        ],\n",
       "       [0.54671053],\n",
       "       [0.77916667],\n",
       "       [0.92302632]])"
      ]
     },
     "execution_count": 15,
     "metadata": {},
     "output_type": "execute_result"
    }
   ],
   "source": [
    "# Scale the data\n",
    "from sklearn.preprocessing import MinMaxScaler\n",
    "\n",
    "scaler = MinMaxScaler(feature_range=(0,1))\n",
    "scaled_data_test = scaler.fit_transform(test)\n",
    "len(scaled_data_test)\n",
    "\n",
    "scaled_data_test"
   ]
  },
  {
   "cell_type": "code",
   "execution_count": 16,
   "id": "de0a2b66",
   "metadata": {},
   "outputs": [],
   "source": [
    "#tạo vòng lặp giá trị với 6 ngày một vòng lặp\n",
    "x_test,y_test = [],[]\n",
    "for i in range(6,len(scaled_data_test)):\n",
    "    # x nhan gia tri tu 1 den 6 và tang dan 2 den 7 ,... mot vong lap\n",
    "    x_test.append(scaled_data[i-6:i])\n",
    "    # nhan gia tri của ngay tiep theo  làm du doan\n",
    "    y_test.append(scaled_data[i])\n",
    "    \n",
    "# cchuyen dl ve kieu array\n",
    "x_test1 = np.array(x_test)\n",
    "y_test1 = np.array(y_test)\n",
    "\n",
    "\n",
    "# dua dl ve mang 1 chieu \n",
    "x_test2 = np.reshape(x_test1, (x_test1.shape[0], x_test1.shape[1], 1))\n",
    "y_test2 = np.reshape(y_test1, (y_test1.shape[0], y_test1.shape[1], 1))"
   ]
  },
  {
   "cell_type": "code",
   "execution_count": 18,
   "id": "78b3267a",
   "metadata": {},
   "outputs": [
    {
     "name": "stdout",
     "output_type": "stream",
     "text": [
      "1/1 [==============================] - 0s 22ms/step\n"
     ]
    },
    {
     "ename": "ValueError",
     "evalue": "Found array with dim 3. Estimator expected <= 2.",
     "output_type": "error",
     "traceback": [
      "\u001b[1;31m---------------------------------------------------------------------------\u001b[0m",
      "\u001b[1;31mValueError\u001b[0m                                Traceback (most recent call last)",
      "Input \u001b[1;32mIn [18]\u001b[0m, in \u001b[0;36m<cell line: 2>\u001b[1;34m()\u001b[0m\n\u001b[0;32m      1\u001b[0m predictions \u001b[38;5;241m=\u001b[39m model_lstm\u001b[38;5;241m.\u001b[39mpredict(x_test2)\n\u001b[1;32m----> 2\u001b[0m predictions \u001b[38;5;241m=\u001b[39m \u001b[43mscaler\u001b[49m\u001b[38;5;241;43m.\u001b[39;49m\u001b[43minverse_transform\u001b[49m\u001b[43m(\u001b[49m\u001b[43mpredictions\u001b[49m\u001b[43m)\u001b[49m\n\u001b[0;32m      3\u001b[0m predictions\n",
      "File \u001b[1;32m~\\anaconda3\\lib\\site-packages\\sklearn\\preprocessing\\_data.py:525\u001b[0m, in \u001b[0;36mMinMaxScaler.inverse_transform\u001b[1;34m(self, X)\u001b[0m\n\u001b[0;32m    511\u001b[0m \u001b[38;5;124;03m\"\"\"Undo the scaling of X according to feature_range.\u001b[39;00m\n\u001b[0;32m    512\u001b[0m \n\u001b[0;32m    513\u001b[0m \u001b[38;5;124;03mParameters\u001b[39;00m\n\u001b[1;32m   (...)\u001b[0m\n\u001b[0;32m    521\u001b[0m \u001b[38;5;124;03m    Transformed data.\u001b[39;00m\n\u001b[0;32m    522\u001b[0m \u001b[38;5;124;03m\"\"\"\u001b[39;00m\n\u001b[0;32m    523\u001b[0m check_is_fitted(\u001b[38;5;28mself\u001b[39m)\n\u001b[1;32m--> 525\u001b[0m X \u001b[38;5;241m=\u001b[39m \u001b[43mcheck_array\u001b[49m\u001b[43m(\u001b[49m\n\u001b[0;32m    526\u001b[0m \u001b[43m    \u001b[49m\u001b[43mX\u001b[49m\u001b[43m,\u001b[49m\u001b[43m \u001b[49m\u001b[43mcopy\u001b[49m\u001b[38;5;241;43m=\u001b[39;49m\u001b[38;5;28;43mself\u001b[39;49m\u001b[38;5;241;43m.\u001b[39;49m\u001b[43mcopy\u001b[49m\u001b[43m,\u001b[49m\u001b[43m \u001b[49m\u001b[43mdtype\u001b[49m\u001b[38;5;241;43m=\u001b[39;49m\u001b[43mFLOAT_DTYPES\u001b[49m\u001b[43m,\u001b[49m\u001b[43m \u001b[49m\u001b[43mforce_all_finite\u001b[49m\u001b[38;5;241;43m=\u001b[39;49m\u001b[38;5;124;43m\"\u001b[39;49m\u001b[38;5;124;43mallow-nan\u001b[39;49m\u001b[38;5;124;43m\"\u001b[39;49m\n\u001b[0;32m    527\u001b[0m \u001b[43m\u001b[49m\u001b[43m)\u001b[49m\n\u001b[0;32m    529\u001b[0m X \u001b[38;5;241m-\u001b[39m\u001b[38;5;241m=\u001b[39m \u001b[38;5;28mself\u001b[39m\u001b[38;5;241m.\u001b[39mmin_\n\u001b[0;32m    530\u001b[0m X \u001b[38;5;241m/\u001b[39m\u001b[38;5;241m=\u001b[39m \u001b[38;5;28mself\u001b[39m\u001b[38;5;241m.\u001b[39mscale_\n",
      "File \u001b[1;32m~\\anaconda3\\lib\\site-packages\\sklearn\\utils\\validation.py:794\u001b[0m, in \u001b[0;36mcheck_array\u001b[1;34m(array, accept_sparse, accept_large_sparse, dtype, order, copy, force_all_finite, ensure_2d, allow_nd, ensure_min_samples, ensure_min_features, estimator)\u001b[0m\n\u001b[0;32m    789\u001b[0m         \u001b[38;5;28;01mraise\u001b[39;00m \u001b[38;5;167;01mValueError\u001b[39;00m(\n\u001b[0;32m    790\u001b[0m             \u001b[38;5;124m\"\u001b[39m\u001b[38;5;124mUnable to convert array of bytes/strings \u001b[39m\u001b[38;5;124m\"\u001b[39m\n\u001b[0;32m    791\u001b[0m             \u001b[38;5;124m\"\u001b[39m\u001b[38;5;124minto decimal numbers with dtype=\u001b[39m\u001b[38;5;124m'\u001b[39m\u001b[38;5;124mnumeric\u001b[39m\u001b[38;5;124m'\u001b[39m\u001b[38;5;124m\"\u001b[39m\n\u001b[0;32m    792\u001b[0m         ) \u001b[38;5;28;01mfrom\u001b[39;00m \u001b[38;5;21;01me\u001b[39;00m\n\u001b[0;32m    793\u001b[0m \u001b[38;5;28;01mif\u001b[39;00m \u001b[38;5;129;01mnot\u001b[39;00m allow_nd \u001b[38;5;129;01mand\u001b[39;00m array\u001b[38;5;241m.\u001b[39mndim \u001b[38;5;241m>\u001b[39m\u001b[38;5;241m=\u001b[39m \u001b[38;5;241m3\u001b[39m:\n\u001b[1;32m--> 794\u001b[0m     \u001b[38;5;28;01mraise\u001b[39;00m \u001b[38;5;167;01mValueError\u001b[39;00m(\n\u001b[0;32m    795\u001b[0m         \u001b[38;5;124m\"\u001b[39m\u001b[38;5;124mFound array with dim \u001b[39m\u001b[38;5;132;01m%d\u001b[39;00m\u001b[38;5;124m. \u001b[39m\u001b[38;5;132;01m%s\u001b[39;00m\u001b[38;5;124m expected <= 2.\u001b[39m\u001b[38;5;124m\"\u001b[39m\n\u001b[0;32m    796\u001b[0m         \u001b[38;5;241m%\u001b[39m (array\u001b[38;5;241m.\u001b[39mndim, estimator_name)\n\u001b[0;32m    797\u001b[0m     )\n\u001b[0;32m    799\u001b[0m \u001b[38;5;28;01mif\u001b[39;00m force_all_finite:\n\u001b[0;32m    800\u001b[0m     _assert_all_finite(array, allow_nan\u001b[38;5;241m=\u001b[39mforce_all_finite \u001b[38;5;241m==\u001b[39m \u001b[38;5;124m\"\u001b[39m\u001b[38;5;124mallow-nan\u001b[39m\u001b[38;5;124m\"\u001b[39m)\n",
      "\u001b[1;31mValueError\u001b[0m: Found array with dim 3. Estimator expected <= 2."
     ]
    }
   ],
   "source": [
    "predictions = model_lstm.predict(x_test2)\n",
    "predictions = scaler.inverse_transform(predictions)\n",
    "predictions"
   ]
  },
  {
   "cell_type": "code",
   "execution_count": null,
   "id": "c41eb221",
   "metadata": {},
   "outputs": [],
   "source": []
  }
 ],
 "metadata": {
  "kernelspec": {
   "display_name": "Python 3 (ipykernel)",
   "language": "python",
   "name": "python3"
  },
  "language_info": {
   "codemirror_mode": {
    "name": "ipython",
    "version": 3
   },
   "file_extension": ".py",
   "mimetype": "text/x-python",
   "name": "python",
   "nbconvert_exporter": "python",
   "pygments_lexer": "ipython3",
   "version": "3.9.12"
  }
 },
 "nbformat": 4,
 "nbformat_minor": 5
}
