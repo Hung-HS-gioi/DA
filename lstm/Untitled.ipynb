{
 "cells": [
  {
   "cell_type": "code",
   "execution_count": 1,
   "id": "3b2646b8",
   "metadata": {},
   "outputs": [],
   "source": [
    "import pandas as pd\n",
    "import numpy as np\n",
    "import matplotlib.pyplot as plt\n",
    "import seaborn as sns\n",
    "from datetime import datetime"
   ]
  },
  {
   "cell_type": "code",
   "execution_count": 2,
   "id": "a789bb3f",
   "metadata": {},
   "outputs": [],
   "source": [
    "df = pd.read_csv(\"shampoo.csv\")"
   ]
  },
  {
   "cell_type": "code",
   "execution_count": 3,
   "id": "03e92370",
   "metadata": {},
   "outputs": [
    {
     "data": {
      "text/html": [
       "<div>\n",
       "<style scoped>\n",
       "    .dataframe tbody tr th:only-of-type {\n",
       "        vertical-align: middle;\n",
       "    }\n",
       "\n",
       "    .dataframe tbody tr th {\n",
       "        vertical-align: top;\n",
       "    }\n",
       "\n",
       "    .dataframe thead th {\n",
       "        text-align: right;\n",
       "    }\n",
       "</style>\n",
       "<table border=\"1\" class=\"dataframe\">\n",
       "  <thead>\n",
       "    <tr style=\"text-align: right;\">\n",
       "      <th></th>\n",
       "      <th>Month</th>\n",
       "      <th>Sales</th>\n",
       "    </tr>\n",
       "  </thead>\n",
       "  <tbody>\n",
       "    <tr>\n",
       "      <th>0</th>\n",
       "      <td>1-01</td>\n",
       "      <td>266.0</td>\n",
       "    </tr>\n",
       "    <tr>\n",
       "      <th>1</th>\n",
       "      <td>1-02</td>\n",
       "      <td>145.9</td>\n",
       "    </tr>\n",
       "    <tr>\n",
       "      <th>2</th>\n",
       "      <td>1-03</td>\n",
       "      <td>183.1</td>\n",
       "    </tr>\n",
       "    <tr>\n",
       "      <th>3</th>\n",
       "      <td>1-04</td>\n",
       "      <td>119.3</td>\n",
       "    </tr>\n",
       "    <tr>\n",
       "      <th>4</th>\n",
       "      <td>1-05</td>\n",
       "      <td>180.3</td>\n",
       "    </tr>\n",
       "  </tbody>\n",
       "</table>\n",
       "</div>"
      ],
      "text/plain": [
       "  Month  Sales\n",
       "0  1-01  266.0\n",
       "1  1-02  145.9\n",
       "2  1-03  183.1\n",
       "3  1-04  119.3\n",
       "4  1-05  180.3"
      ]
     },
     "execution_count": 3,
     "metadata": {},
     "output_type": "execute_result"
    }
   ],
   "source": [
    "df.head()"
   ]
  },
  {
   "cell_type": "code",
   "execution_count": 4,
   "id": "af0adf39",
   "metadata": {},
   "outputs": [
    {
     "data": {
      "text/html": [
       "<div>\n",
       "<style scoped>\n",
       "    .dataframe tbody tr th:only-of-type {\n",
       "        vertical-align: middle;\n",
       "    }\n",
       "\n",
       "    .dataframe tbody tr th {\n",
       "        vertical-align: top;\n",
       "    }\n",
       "\n",
       "    .dataframe thead th {\n",
       "        text-align: right;\n",
       "    }\n",
       "</style>\n",
       "<table border=\"1\" class=\"dataframe\">\n",
       "  <thead>\n",
       "    <tr style=\"text-align: right;\">\n",
       "      <th></th>\n",
       "      <th>Month</th>\n",
       "      <th>Sales</th>\n",
       "      <th>month</th>\n",
       "      <th>year</th>\n",
       "    </tr>\n",
       "  </thead>\n",
       "  <tbody>\n",
       "    <tr>\n",
       "      <th>0</th>\n",
       "      <td>1-01</td>\n",
       "      <td>266.0</td>\n",
       "      <td>1901</td>\n",
       "      <td>1</td>\n",
       "    </tr>\n",
       "    <tr>\n",
       "      <th>1</th>\n",
       "      <td>1-02</td>\n",
       "      <td>145.9</td>\n",
       "      <td>1901</td>\n",
       "      <td>2</td>\n",
       "    </tr>\n",
       "    <tr>\n",
       "      <th>2</th>\n",
       "      <td>1-03</td>\n",
       "      <td>183.1</td>\n",
       "      <td>1901</td>\n",
       "      <td>3</td>\n",
       "    </tr>\n",
       "    <tr>\n",
       "      <th>3</th>\n",
       "      <td>1-04</td>\n",
       "      <td>119.3</td>\n",
       "      <td>1901</td>\n",
       "      <td>4</td>\n",
       "    </tr>\n",
       "    <tr>\n",
       "      <th>4</th>\n",
       "      <td>1-05</td>\n",
       "      <td>180.3</td>\n",
       "      <td>1901</td>\n",
       "      <td>5</td>\n",
       "    </tr>\n",
       "  </tbody>\n",
       "</table>\n",
       "</div>"
      ],
      "text/plain": [
       "  Month  Sales month  year\n",
       "0  1-01  266.0  1901     1\n",
       "1  1-02  145.9  1901     2\n",
       "2  1-03  183.1  1901     3\n",
       "3  1-04  119.3  1901     4\n",
       "4  1-05  180.3  1901     5"
      ]
     },
     "execution_count": 4,
     "metadata": {},
     "output_type": "execute_result"
    }
   ],
   "source": [
    "# tách lay thang \n",
    "df[\"month\"] = [str(s.split(\"-\")[0]) for s in df[\"Month\"]]\n",
    "# tach lay nam \n",
    "df[\"year\"] = [int(s.split(\"-\")[1]) for s in df[\"Month\"]]\n",
    "# tinh Năm\n",
    "df[\"month\"] = [str('190'+s) for s in df[\"month\"]]\n",
    "df.head()"
   ]
  },
  {
   "cell_type": "code",
   "execution_count": 5,
   "id": "8bcda08c",
   "metadata": {},
   "outputs": [
    {
     "data": {
      "text/html": [
       "<div>\n",
       "<style scoped>\n",
       "    .dataframe tbody tr th:only-of-type {\n",
       "        vertical-align: middle;\n",
       "    }\n",
       "\n",
       "    .dataframe tbody tr th {\n",
       "        vertical-align: top;\n",
       "    }\n",
       "\n",
       "    .dataframe thead th {\n",
       "        text-align: right;\n",
       "    }\n",
       "</style>\n",
       "<table border=\"1\" class=\"dataframe\">\n",
       "  <thead>\n",
       "    <tr style=\"text-align: right;\">\n",
       "      <th></th>\n",
       "      <th>Month</th>\n",
       "      <th>Sales</th>\n",
       "      <th>month</th>\n",
       "      <th>year</th>\n",
       "      <th>Date</th>\n",
       "    </tr>\n",
       "  </thead>\n",
       "  <tbody>\n",
       "    <tr>\n",
       "      <th>0</th>\n",
       "      <td>1-01</td>\n",
       "      <td>266.0</td>\n",
       "      <td>1901</td>\n",
       "      <td>1</td>\n",
       "      <td>1901-01-01</td>\n",
       "    </tr>\n",
       "    <tr>\n",
       "      <th>1</th>\n",
       "      <td>1-02</td>\n",
       "      <td>145.9</td>\n",
       "      <td>1901</td>\n",
       "      <td>2</td>\n",
       "      <td>1901-02-01</td>\n",
       "    </tr>\n",
       "    <tr>\n",
       "      <th>2</th>\n",
       "      <td>1-03</td>\n",
       "      <td>183.1</td>\n",
       "      <td>1901</td>\n",
       "      <td>3</td>\n",
       "      <td>1901-03-01</td>\n",
       "    </tr>\n",
       "    <tr>\n",
       "      <th>3</th>\n",
       "      <td>1-04</td>\n",
       "      <td>119.3</td>\n",
       "      <td>1901</td>\n",
       "      <td>4</td>\n",
       "      <td>1901-04-01</td>\n",
       "    </tr>\n",
       "    <tr>\n",
       "      <th>4</th>\n",
       "      <td>1-05</td>\n",
       "      <td>180.3</td>\n",
       "      <td>1901</td>\n",
       "      <td>5</td>\n",
       "      <td>1901-05-01</td>\n",
       "    </tr>\n",
       "  </tbody>\n",
       "</table>\n",
       "</div>"
      ],
      "text/plain": [
       "  Month  Sales month  year       Date\n",
       "0  1-01  266.0  1901     1 1901-01-01\n",
       "1  1-02  145.9  1901     2 1901-02-01\n",
       "2  1-03  183.1  1901     3 1901-03-01\n",
       "3  1-04  119.3  1901     4 1901-04-01\n",
       "4  1-05  180.3  1901     5 1901-05-01"
      ]
     },
     "execution_count": 5,
     "metadata": {},
     "output_type": "execute_result"
    }
   ],
   "source": [
    "#Tạo cot từ Year và Month\n",
    "df[\"Date\"] = [str(y) + '-' + str(m) for y,m in zip(df[\"year\"], df[\"month\"])]\n",
    "#chuyển đổi cột Date về dạng DateTime\n",
    "df['Date']=pd.to_datetime(df[\"Date\"])\n",
    "df.head()"
   ]
  },
  {
   "cell_type": "code",
   "execution_count": 6,
   "id": "d4dcfd5c",
   "metadata": {},
   "outputs": [
    {
     "data": {
      "text/html": [
       "<div>\n",
       "<style scoped>\n",
       "    .dataframe tbody tr th:only-of-type {\n",
       "        vertical-align: middle;\n",
       "    }\n",
       "\n",
       "    .dataframe tbody tr th {\n",
       "        vertical-align: top;\n",
       "    }\n",
       "\n",
       "    .dataframe thead th {\n",
       "        text-align: right;\n",
       "    }\n",
       "</style>\n",
       "<table border=\"1\" class=\"dataframe\">\n",
       "  <thead>\n",
       "    <tr style=\"text-align: right;\">\n",
       "      <th></th>\n",
       "      <th>Sales</th>\n",
       "    </tr>\n",
       "    <tr>\n",
       "      <th>Date</th>\n",
       "      <th></th>\n",
       "    </tr>\n",
       "  </thead>\n",
       "  <tbody>\n",
       "    <tr>\n",
       "      <th>1901-01-01</th>\n",
       "      <td>266.0</td>\n",
       "    </tr>\n",
       "    <tr>\n",
       "      <th>1901-02-01</th>\n",
       "      <td>145.9</td>\n",
       "    </tr>\n",
       "    <tr>\n",
       "      <th>1901-03-01</th>\n",
       "      <td>183.1</td>\n",
       "    </tr>\n",
       "    <tr>\n",
       "      <th>1901-04-01</th>\n",
       "      <td>119.3</td>\n",
       "    </tr>\n",
       "    <tr>\n",
       "      <th>1901-05-01</th>\n",
       "      <td>180.3</td>\n",
       "    </tr>\n",
       "  </tbody>\n",
       "</table>\n",
       "</div>"
      ],
      "text/plain": [
       "            Sales\n",
       "Date             \n",
       "1901-01-01  266.0\n",
       "1901-02-01  145.9\n",
       "1901-03-01  183.1\n",
       "1901-04-01  119.3\n",
       "1901-05-01  180.3"
      ]
     },
     "execution_count": 6,
     "metadata": {},
     "output_type": "execute_result"
    }
   ],
   "source": [
    "df.drop(df.columns[[0,2,3]], axis=1, inplace=True)\n",
    "df.set_index(\"Date\",inplace=True)\n",
    "df.head()"
   ]
  },
  {
   "cell_type": "code",
   "execution_count": 7,
   "id": "4df5d5c2",
   "metadata": {},
   "outputs": [
    {
     "name": "stdout",
     "output_type": "stream",
     "text": [
      "<class 'pandas.core.frame.DataFrame'>\n",
      "DatetimeIndex: 36 entries, 1901-01-01 to 1903-12-01\n",
      "Data columns (total 1 columns):\n",
      " #   Column  Non-Null Count  Dtype  \n",
      "---  ------  --------------  -----  \n",
      " 0   Sales   36 non-null     float64\n",
      "dtypes: float64(1)\n",
      "memory usage: 576.0 bytes\n"
     ]
    }
   ],
   "source": [
    "df.info()"
   ]
  },
  {
   "cell_type": "markdown",
   "id": "371da8a2",
   "metadata": {},
   "source": [
    "\n",
    "## tạo tập train - test"
   ]
  },
  {
   "cell_type": "code",
   "execution_count": 8,
   "id": "e1574ef6",
   "metadata": {},
   "outputs": [],
   "source": [
    "# chuyen va dang value\n",
    "data = df.values\n",
    "# tap train la 18 dong dau , test là 18 dong sau\n",
    "train = data[:-18]\n",
    "test = data[-18:]"
   ]
  },
  {
   "cell_type": "code",
   "execution_count": 9,
   "id": "76ff70e2",
   "metadata": {},
   "outputs": [
    {
     "data": {
      "text/plain": [
       "36"
      ]
     },
     "execution_count": 9,
     "metadata": {},
     "output_type": "execute_result"
    }
   ],
   "source": [
    "# Scale the data\n",
    "from sklearn.preprocessing import MinMaxScaler\n",
    "\n",
    "scaler = MinMaxScaler(feature_range=(0,1))\n",
    "scaled_data = scaler.fit_transform(data) # hoc tap data de scaler ket qua \n",
    "len(scaled_data)"
   ]
  },
  {
   "cell_type": "markdown",
   "id": "81401c2c",
   "metadata": {},
   "source": [
    "## tách tập train"
   ]
  },
  {
   "cell_type": "code",
   "execution_count": 10,
   "id": "80c2faa2",
   "metadata": {},
   "outputs": [],
   "source": [
    "# tạo vòng lặp giá trị với 6 ngày một vòng lặp\n",
    "x_train,y_train=[],[]\n",
    "for i in range(6,len(train)):\n",
    "    # x nhan gia tri tu 1 den 6 và tang dan 2 den 7 ,... mot vong lap\n",
    "    x_train.append(scaled_data[i-6:i,0]) # nhận giá trị trong khoảng từ i<-6 đơn vi\n",
    "    # nhan gia tri của ngay tiep theo  làm du doan\n",
    "    y_train.append(scaled_data[i,0])"
   ]
  },
  {
   "cell_type": "code",
   "execution_count": 11,
   "id": "b0278f50",
   "metadata": {},
   "outputs": [],
   "source": [
    "# cchuyen dl ve kieu array\n",
    "x_train1 = np.array(x_train)\n",
    "y_train1 = np.array(y_train)\n",
    "\n",
    "# dua dl ve mang 1 chieu \n",
    "x_train2 = np.reshape(x_train1, (x_train1.shape[0], x_train1.shape[1], 1))\n",
    "y_train2 = np.reshape(y_train1, (y_train1.shape[0],1))"
   ]
  },
  {
   "cell_type": "code",
   "execution_count": 12,
   "id": "57c0f329",
   "metadata": {},
   "outputs": [
    {
     "data": {
      "text/plain": [
       "array([[[0.2607073 ],\n",
       "        [0.04727208],\n",
       "        [0.11338191],\n",
       "        [0.        ],\n",
       "        [0.1084059 ],\n",
       "        [0.08743558]],\n",
       "\n",
       "       [[0.04727208],\n",
       "        [0.11338191],\n",
       "        [0.        ],\n",
       "        [0.1084059 ],\n",
       "        [0.08743558],\n",
       "        [0.19992891]]])"
      ]
     },
     "execution_count": 12,
     "metadata": {},
     "output_type": "execute_result"
    }
   ],
   "source": [
    "x_train2[:2]"
   ]
  },
  {
   "cell_type": "code",
   "execution_count": 13,
   "id": "90e6ffe0",
   "metadata": {},
   "outputs": [
    {
     "data": {
      "text/plain": [
       "array([[0.19992891],\n",
       "       [0.18695575]])"
      ]
     },
     "execution_count": 13,
     "metadata": {},
     "output_type": "execute_result"
    }
   ],
   "source": [
    "y_train2[:2]"
   ]
  },
  {
   "cell_type": "code",
   "execution_count": 14,
   "id": "7fcc42f9",
   "metadata": {},
   "outputs": [],
   "source": [
    "# import thư viện\n",
    "from keras.models import Sequential\n",
    "from keras.layers import LSTM,Dense,Dropout,Bidirectional,Embedding\n",
    "from keras.models import load_model, Model"
   ]
  },
  {
   "cell_type": "code",
   "execution_count": 15,
   "id": "7a2620ba",
   "metadata": {
    "scrolled": true
   },
   "outputs": [
    {
     "name": "stdout",
     "output_type": "stream",
     "text": [
      "Model: \"sequential\"\n",
      "_________________________________________________________________\n",
      " Layer (type)                Output Shape              Param #   \n",
      "=================================================================\n",
      " lstm (LSTM)                 (None, 6, 64)             16896     \n",
      "                                                                 \n",
      " dropout (Dropout)           (None, 6, 64)             0         \n",
      "                                                                 \n",
      " dense (Dense)               (None, 6, 1)              65        \n",
      "                                                                 \n",
      "=================================================================\n",
      "Total params: 16,961\n",
      "Trainable params: 16,961\n",
      "Non-trainable params: 0\n",
      "_________________________________________________________________\n"
     ]
    }
   ],
   "source": [
    "# Xây dựng mạng nơ-ron đơn giản để tạo lớp mạng\n",
    "model_lstm = Sequential()\n",
    "#Xây dungje lớp mạng nơ-ron LSTM với số chiều là 64\n",
    "model_lstm.add(LSTM(64,input_shape =(x_train2.shape[1],1),return_sequences=True))\n",
    "# dropout trách việc học tủ của mạng \n",
    "model_lstm.add(Dropout(0.2))\n",
    "# lớp out put đầr ra 1 chiều cho giá trị\n",
    "model_lstm.add(Dense(1))\n",
    "# Sai số toàn phương trung bình mse\n",
    "model_lstm.compile(loss = 'mse')\n",
    "model_lstm.summary()\n"
   ]
  },
  {
   "cell_type": "code",
   "execution_count": 16,
   "id": "e4f672cb",
   "metadata": {},
   "outputs": [
    {
     "name": "stdout",
     "output_type": "stream",
     "text": [
      "Epoch 1/10\n",
      "1/1 [==============================] - 3s 3s/step - loss: 0.0399\n",
      "Epoch 2/10\n",
      "1/1 [==============================] - 0s 10ms/step - loss: 0.0315\n",
      "Epoch 3/10\n",
      "1/1 [==============================] - 0s 13ms/step - loss: 0.0266\n",
      "Epoch 4/10\n",
      "1/1 [==============================] - 0s 11ms/step - loss: 0.0230\n",
      "Epoch 5/10\n",
      "1/1 [==============================] - 0s 10ms/step - loss: 0.0206\n",
      "Epoch 6/10\n",
      "1/1 [==============================] - 0s 12ms/step - loss: 0.0185\n",
      "Epoch 7/10\n",
      "1/1 [==============================] - 0s 14ms/step - loss: 0.0175\n",
      "Epoch 8/10\n",
      "1/1 [==============================] - 0s 11ms/step - loss: 0.0167\n",
      "Epoch 9/10\n",
      "1/1 [==============================] - 0s 14ms/step - loss: 0.0153\n",
      "Epoch 10/10\n",
      "1/1 [==============================] - 0s 12ms/step - loss: 0.0154\n"
     ]
    },
    {
     "data": {
      "text/plain": [
       "<keras.callbacks.History at 0x1f088216ac0>"
      ]
     },
     "execution_count": 16,
     "metadata": {},
     "output_type": "execute_result"
    }
   ],
   "source": [
    "\n",
    "# mạng nơ- ron học \n",
    "model_lstm.fit(x_train2,y_train2,epochs = 10)"
   ]
  },
  {
   "cell_type": "code",
   "execution_count": 17,
   "id": "4080c2af",
   "metadata": {},
   "outputs": [
    {
     "data": {
      "text/plain": [
       "array([[231.8],\n",
       "       [224.5],\n",
       "       [192.8],\n",
       "       [122.9],\n",
       "       [336.5],\n",
       "       [185.9],\n",
       "       [194.3],\n",
       "       [149.5],\n",
       "       [210.1],\n",
       "       [273.3],\n",
       "       [191.4],\n",
       "       [287. ]])"
      ]
     },
     "execution_count": 17,
     "metadata": {},
     "output_type": "execute_result"
    }
   ],
   "source": [
    "# gia thuc\n",
    "price = scaler.inverse_transform(y_train2)\n",
    "price"
   ]
  },
  {
   "cell_type": "code",
   "execution_count": 18,
   "id": "0992ed47",
   "metadata": {},
   "outputs": [
    {
     "name": "stdout",
     "output_type": "stream",
     "text": [
      "1/1 [==============================] - 1s 736ms/step\n"
     ]
    },
    {
     "data": {
      "text/plain": [
       "array([[[0.05384691],\n",
       "        [0.08880577],\n",
       "        [0.12119298],\n",
       "        [0.14603046],\n",
       "        [0.16971904],\n",
       "        [0.19113691]],\n",
       "\n",
       "       [[0.04484933],\n",
       "        [0.07661591],\n",
       "        [0.10273989],\n",
       "        [0.12874255],\n",
       "        [0.15310642],\n",
       "        [0.18047786]],\n",
       "\n",
       "       [[0.04763599],\n",
       "        [0.07641687],\n",
       "        [0.10502101],\n",
       "        [0.13188109],\n",
       "        [0.16154926],\n",
       "        [0.19168428]],\n",
       "\n",
       "       [[0.04285732],\n",
       "        [0.07309328],\n",
       "        [0.10213223],\n",
       "        [0.13418935],\n",
       "        [0.16680224],\n",
       "        [0.19606936]],\n",
       "\n",
       "       [[0.04742622],\n",
       "        [0.07980099],\n",
       "        [0.11473759],\n",
       "        [0.14985579],\n",
       "        [0.1813106 ],\n",
       "        [0.2036092 ]],\n",
       "\n",
       "       [[0.04654222],\n",
       "        [0.08312411],\n",
       "        [0.12039258],\n",
       "        [0.15426537],\n",
       "        [0.17910236],\n",
       "        [0.21401398]],\n",
       "\n",
       "       [[0.05128473],\n",
       "        [0.09050824],\n",
       "        [0.12669232],\n",
       "        [0.15401949],\n",
       "        [0.19126455],\n",
       "        [0.22254603]],\n",
       "\n",
       "       [[0.05073779],\n",
       "        [0.08717845],\n",
       "        [0.11615982],\n",
       "        [0.15560184],\n",
       "        [0.18964362],\n",
       "        [0.21891811]],\n",
       "\n",
       "       [[0.04836271],\n",
       "        [0.07789884],\n",
       "        [0.11886627],\n",
       "        [0.155261  ],\n",
       "        [0.1872294 ],\n",
       "        [0.21177548]],\n",
       "\n",
       "       [[0.04312687],\n",
       "        [0.08531962],\n",
       "        [0.12373297],\n",
       "        [0.15809166],\n",
       "        [0.18521817],\n",
       "        [0.21145815]],\n",
       "\n",
       "       [[0.05912611],\n",
       "        [0.10074269],\n",
       "        [0.1379458 ],\n",
       "        [0.16760188],\n",
       "        [0.19603854],\n",
       "        [0.22798263]],\n",
       "\n",
       "       [[0.04784576],\n",
       "        [0.08245827],\n",
       "        [0.11252964],\n",
       "        [0.14311951],\n",
       "        [0.17820668],\n",
       "        [0.20873763]]], dtype=float32)"
      ]
     },
     "execution_count": 18,
     "metadata": {},
     "output_type": "execute_result"
    }
   ],
   "source": [
    "\n",
    "# gia du doan \n",
    "predictions = model_lstm.predict(x_train2)\n",
    "#predictions = scaler.inverse_transform(predictions)\n",
    "predictions"
   ]
  },
  {
   "cell_type": "markdown",
   "id": "5f7264c5",
   "metadata": {},
   "source": [
    "## thực hiện test"
   ]
  },
  {
   "cell_type": "code",
   "execution_count": null,
   "id": "a6a8bd96",
   "metadata": {},
   "outputs": [],
   "source": []
  },
  {
   "cell_type": "code",
   "execution_count": 19,
   "id": "de0a2b66",
   "metadata": {},
   "outputs": [],
   "source": [
    "#tạo vòng lặp giá trị với 6 ngày một vòng lặp\n",
    "x_test,y_test = [],[]\n",
    "for i in range(6,len(test)):\n",
    "    # x nhan gia tri tu 1 den 6 và tang dan 2 den 7 ,... mot vong lap\n",
    "    x_test.append(scaled_data[i-6:i])\n",
    "    # nhan gia tri của ngay tiep theo  làm du doan\n",
    "    y_test.append(scaled_data[i])\n",
    "    \n",
    "# cchuyen dl ve kieu array\n",
    "x_test1 = np.array(x_test)\n",
    "y_test1 = np.array(y_test)\n",
    "\n",
    "\n",
    "# dua dl ve mang 1 chieu \n",
    "x_test2 = np.reshape(x_test1, (x_test1.shape[0], x_test1.shape[1], 1))\n",
    "#y_test2 = np.reshape(y_test1, (y_test1.shape[0], y_test1.shape[1], 1))"
   ]
  },
  {
   "cell_type": "code",
   "execution_count": 20,
   "id": "1e2adc6f",
   "metadata": {},
   "outputs": [
    {
     "data": {
      "text/plain": [
       "array([[0.04727208],\n",
       "       [0.11338191],\n",
       "       [0.        ],\n",
       "       [0.1084059 ],\n",
       "       [0.08743558],\n",
       "       [0.19992891]])"
      ]
     },
     "execution_count": 20,
     "metadata": {},
     "output_type": "execute_result"
    }
   ],
   "source": [
    "x_test2[1]"
   ]
  },
  {
   "cell_type": "code",
   "execution_count": 24,
   "id": "78b3267a",
   "metadata": {},
   "outputs": [
    {
     "name": "stdout",
     "output_type": "stream",
     "text": [
      "1/1 [==============================] - 0s 21ms/step\n"
     ]
    },
    {
     "data": {
      "text/plain": [
       "array([[[0.05384691],\n",
       "        [0.08880577],\n",
       "        [0.12119298],\n",
       "        [0.14603046],\n",
       "        [0.16971904],\n",
       "        [0.19113691]],\n",
       "\n",
       "       [[0.04484933],\n",
       "        [0.07661591],\n",
       "        [0.10273989],\n",
       "        [0.12874255],\n",
       "        [0.15310642],\n",
       "        [0.18047786]],\n",
       "\n",
       "       [[0.04763599],\n",
       "        [0.07641687],\n",
       "        [0.10502101],\n",
       "        [0.13188109],\n",
       "        [0.16154926],\n",
       "        [0.19168428]],\n",
       "\n",
       "       [[0.04285732],\n",
       "        [0.07309328],\n",
       "        [0.10213223],\n",
       "        [0.13418935],\n",
       "        [0.16680224],\n",
       "        [0.19606936]],\n",
       "\n",
       "       [[0.04742622],\n",
       "        [0.07980099],\n",
       "        [0.11473759],\n",
       "        [0.14985579],\n",
       "        [0.1813106 ],\n",
       "        [0.2036092 ]],\n",
       "\n",
       "       [[0.04654222],\n",
       "        [0.08312411],\n",
       "        [0.12039258],\n",
       "        [0.15426537],\n",
       "        [0.17910236],\n",
       "        [0.21401398]],\n",
       "\n",
       "       [[0.05128473],\n",
       "        [0.09050824],\n",
       "        [0.12669232],\n",
       "        [0.15401949],\n",
       "        [0.19126455],\n",
       "        [0.22254603]],\n",
       "\n",
       "       [[0.05073779],\n",
       "        [0.08717845],\n",
       "        [0.11615982],\n",
       "        [0.15560184],\n",
       "        [0.18964362],\n",
       "        [0.21891811]],\n",
       "\n",
       "       [[0.04836271],\n",
       "        [0.07789884],\n",
       "        [0.11886627],\n",
       "        [0.155261  ],\n",
       "        [0.1872294 ],\n",
       "        [0.21177548]],\n",
       "\n",
       "       [[0.04312687],\n",
       "        [0.08531962],\n",
       "        [0.12373297],\n",
       "        [0.15809166],\n",
       "        [0.18521817],\n",
       "        [0.21145815]],\n",
       "\n",
       "       [[0.05912611],\n",
       "        [0.10074269],\n",
       "        [0.1379458 ],\n",
       "        [0.16760188],\n",
       "        [0.19603854],\n",
       "        [0.22798263]],\n",
       "\n",
       "       [[0.04784576],\n",
       "        [0.08245827],\n",
       "        [0.11252964],\n",
       "        [0.14311951],\n",
       "        [0.17820668],\n",
       "        [0.20873763]]], dtype=float32)"
      ]
     },
     "execution_count": 24,
     "metadata": {},
     "output_type": "execute_result"
    }
   ],
   "source": [
    "# du doan \n",
    "predictions = model_lstm.predict(x_test2)\n",
    "# dung scaler để trả về ket qua \n",
    "#predictions = scaler.inverse_transform(predictions)\n",
    "predictions"
   ]
  },
  {
   "cell_type": "code",
   "execution_count": null,
   "id": "7309b0f5",
   "metadata": {},
   "outputs": [],
   "source": []
  }
 ],
 "metadata": {
  "kernelspec": {
   "display_name": "Python 3 (ipykernel)",
   "language": "python",
   "name": "python3"
  },
  "language_info": {
   "codemirror_mode": {
    "name": "ipython",
    "version": 3
   },
   "file_extension": ".py",
   "mimetype": "text/x-python",
   "name": "python",
   "nbconvert_exporter": "python",
   "pygments_lexer": "ipython3",
   "version": "3.9.13"
  }
 },
 "nbformat": 4,
 "nbformat_minor": 5
}
